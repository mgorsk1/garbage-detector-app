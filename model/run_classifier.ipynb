{
  "nbformat": 4,
  "nbformat_minor": 0,
  "metadata": {
    "colab": {
      "name": "run_classifier.ipynb",
      "provenance": [],
      "collapsed_sections": []
    },
    "kernelspec": {
      "name": "python3",
      "display_name": "Python 3"
    }
  },
  "cells": [
    {
      "cell_type": "code",
      "metadata": {
        "id": "eCm32wuuq21X",
        "colab_type": "code",
        "colab": {}
      },
      "source": [
        "import os, glob\n",
        "\n",
        "import pandas as pd\n",
        "import numpy as np\n",
        "import tensorflow as tf\n",
        "from tqdm.notebook import tqdm\n",
        "import matplotlib.pyplot as plt"
      ],
      "execution_count": 0,
      "outputs": []
    },
    {
      "cell_type": "code",
      "metadata": {
        "id": "b9cw2Y1drUUz",
        "colab_type": "code",
        "colab": {}
      },
      "source": [
        "from google.colab import drive\n",
        "drive.mount('/gdrive')\n",
        "%cd /gdrive"
      ],
      "execution_count": 0,
      "outputs": []
    },
    {
      "cell_type": "code",
      "metadata": {
        "id": "UjlAcppirXJb",
        "colab_type": "code",
        "colab": {}
      },
      "source": [
        "project_dir = 'My Drive/projects/ING/Experiment_week/garbage_segmentation/'\n",
        "data_dir = os.path.join(project_dir, 'data', 'raw')\n",
        "if os.path.exists(project_dir + '/models_shared'):\n",
        "  models_dir = project_dir + \"/models_shared\"\n",
        "else:\n",
        "  models_dir = project_dir + \"/models\"\n",
        "os.listdir(project_dir + \"/data/raw/train/paper\")[:5]"
      ],
      "execution_count": 0,
      "outputs": []
    },
    {
      "cell_type": "code",
      "metadata": {
        "id": "vOwO2UvbrhLR",
        "colab_type": "code",
        "colab": {}
      },
      "source": [
        "classes = os.listdir(project_dir + \"/data/raw/train\")\n",
        "\n",
        "def to_categorical(labels, label_to_index):\n",
        "    labels_int = pd.Series(labels).map(label_to_index)\n",
        "    return tf.keras.utils.to_categorical(labels_int, num_classes=len(label_to_index))\n",
        "\n",
        "label_to_index = dict(zip(classes, range(len(classes))))\n",
        "index_to_label = {v: k for k, v in label_to_index.items()}\n",
        "classes, label_to_index"
      ],
      "execution_count": 0,
      "outputs": []
    },
    {
      "cell_type": "code",
      "metadata": {
        "id": "RpR3sY98rwC-",
        "colab_type": "code",
        "colab": {}
      },
      "source": [
        "class ImagePreprocessing(object):\n",
        "\n",
        "  def __init__(self):\n",
        "    self.target_size = (224, 224)\n",
        "    self.preprocess_input = tf.keras.applications.resnet50.preprocess_input\n",
        "    self.input_shape = (224, 224, 3)\n",
        "    self.model_base = tf.keras.applications.resnet50.ResNet50(include_top=False, input_shape=self.input_shape)\n",
        "\n",
        "  def load_image(self, filename):\n",
        "    image = tf.keras.preprocessing.image.load_img(filename, target_size=self.target_size)\n",
        "    image = tf.keras.preprocessing.image.img_to_array(image)\n",
        "    return image\n",
        "\n",
        "  def process(self, filename_or_list, verbose=1):\n",
        "    lst = [filename_or_list] if not isinstance(filename_or_list, list) else filename_or_list\n",
        "    df = pd.DataFrame({'path': lst})\n",
        "    df['name'] = df['path'].str.split('/').str[-1]\n",
        "    df['label'] = df['path'].str.split('/').str[-2]\n",
        "    df['set'] = df['path'].str.split('/').str[-3]\n",
        "    df['img'] = [self.load_image(filename) for filename in tqdm(lst)]\n",
        "    img_preped = np.stack([self.preprocess_input(x) for x in tqdm(df['img'].values)])\n",
        "    img_embed = self.model_base.predict(img_preped, batch_size=20, verbose=verbose)\n",
        "    df['img_embed'] = [x for x in img_embed]\n",
        "    return df\n",
        "\n",
        "img_pre = ImagePreprocessing()"
      ],
      "execution_count": 0,
      "outputs": []
    },
    {
      "cell_type": "code",
      "metadata": {
        "id": "qyi1931ks3K_",
        "colab_type": "code",
        "colab": {}
      },
      "source": [
        "test_names = sorted(glob.glob(data_dir + '/test/*/*'))\n",
        "print(len(test_names))\n",
        "print(\"\\n\".join(test_names[:2]))"
      ],
      "execution_count": 0,
      "outputs": []
    },
    {
      "cell_type": "code",
      "metadata": {
        "id": "5Y6Irc81s-Bp",
        "colab_type": "code",
        "colab": {}
      },
      "source": [
        "np.random.seed(1)\n",
        "test_sample = list(np.random.choice(test_names, 10))\n",
        "print(\"\\n\".join(test_sample))"
      ],
      "execution_count": 0,
      "outputs": []
    },
    {
      "cell_type": "code",
      "metadata": {
        "id": "bTqAal53tElS",
        "colab_type": "code",
        "colab": {}
      },
      "source": [
        "model = tf.keras.models.load_model(models_dir + \"/model0.h5\")"
      ],
      "execution_count": 0,
      "outputs": []
    },
    {
      "cell_type": "code",
      "metadata": {
        "id": "e_IiuLS1ucg4",
        "colab_type": "code",
        "colab": {}
      },
      "source": [
        "df = img_pre.process(test_sample)\n",
        "pred = model.predict(np.stack(df['img_embed']))\n",
        "print(pred.shape)\n",
        "print(np.mean(pred, axis=0))\n",
        "print(pred[0, :])\n",
        "df['pred'] = np.argmax(pred, axis=1)\n",
        "df['pred_pr'] = np.max(pred, axis=1)\n",
        "df['pred_label'] = df['pred'].map(index_to_label)\n",
        "df[['label', 'pred_label']]"
      ],
      "execution_count": 0,
      "outputs": []
    },
    {
      "cell_type": "code",
      "metadata": {
        "id": "eh6kFHMDwEoW",
        "colab_type": "code",
        "colab": {}
      },
      "source": [
        "test_df = img_pre.process(test_names)\n",
        "pred = model.predict(np.stack(test_df['img_embed']))\n",
        "test_df['pred'] = np.argmax(pred, axis=1)\n",
        "test_df['pred_pr'] = np.max(pred, axis=1)\n",
        "test_df['pred_label'] = test_df['pred'].map(index_to_label)\n",
        "display(test_df[['label', 'pred_label', 'pred_pr']].head(10))"
      ],
      "execution_count": 0,
      "outputs": []
    },
    {
      "cell_type": "code",
      "metadata": {
        "id": "z0jULQDY6Hc5",
        "colab_type": "code",
        "colab": {}
      },
      "source": [
        "display(test_df.groupby(['label', 'pred_label']).size().unstack(level=1).fillna(0).astype(int))"
      ],
      "execution_count": 0,
      "outputs": []
    },
    {
      "cell_type": "code",
      "metadata": {
        "id": "qW6Url_MxYP8",
        "colab_type": "code",
        "colab": {}
      },
      "source": [
        "from ipywidgets import interactive\n",
        "\n",
        "def show_samples(label='glass', pred_label='metal', count=3):\n",
        "  sel = test_df[(test_df['label']==label) & (test_df['pred_label']==pred_label)].head(count)\n",
        "  display(sel[['name', 'label', 'pred_label', 'pred_pr']])\n",
        "  if len(sel) == 0:\n",
        "    return\n",
        "  fix, axs = plt.subplots(nrows=len(sel), figsize=(10, 5*len(sel)))\n",
        "  if len(sel) == 1:\n",
        "    axs = [axs]\n",
        "  for i in range(len(sel)):\n",
        "    axs[i].imshow(tf.keras.preprocessing.image.array_to_img(sel.iloc[i].img), origin='lower')\n",
        "  plt.show()\n",
        "\n",
        "interactive(show_samples, label=classes, pred_label=classes, count=[3, 5, 10])"
      ],
      "execution_count": 0,
      "outputs": []
    },
    {
      "cell_type": "code",
      "metadata": {
        "id": "OIKOwTqc3qEi",
        "colab_type": "code",
        "colab": {}
      },
      "source": [
        ""
      ],
      "execution_count": 0,
      "outputs": []
    }
  ]
}