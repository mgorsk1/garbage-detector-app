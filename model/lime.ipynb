{
  "nbformat": 4,
  "nbformat_minor": 0,
  "metadata": {
    "colab": {
      "name": "lime",
      "provenance": [],
      "collapsed_sections": []
    },
    "kernelspec": {
      "name": "python3",
      "display_name": "Python 3"
    }
  },
  "cells": [
    {
      "cell_type": "code",
      "metadata": {
        "id": "VMadkC14J03g",
        "colab_type": "code",
        "colab": {}
      },
      "source": [
        "import os, glob\n",
        "\n",
        "import pandas as pd\n",
        "import numpy as np\n",
        "import tensorflow as tf\n",
        "from tqdm.notebook import tqdm\n",
        "import matplotlib.pyplot as plt"
      ],
      "execution_count": 0,
      "outputs": []
    },
    {
      "cell_type": "code",
      "metadata": {
        "id": "hszqbqxALaL1",
        "colab_type": "code",
        "colab": {}
      },
      "source": [
        "!pip install lime"
      ],
      "execution_count": 0,
      "outputs": []
    },
    {
      "cell_type": "code",
      "metadata": {
        "id": "z8g_1hu7LX7d",
        "colab_type": "code",
        "colab": {}
      },
      "source": [
        "import lime\n",
        "from lime import lime_image"
      ],
      "execution_count": 0,
      "outputs": []
    },
    {
      "cell_type": "code",
      "metadata": {
        "id": "r8kWjsxBJ2uU",
        "colab_type": "code",
        "colab": {}
      },
      "source": [
        "from google.colab import drive\n",
        "drive.mount('/gdrive')\n",
        "%cd /gdrive"
      ],
      "execution_count": 0,
      "outputs": []
    },
    {
      "cell_type": "code",
      "metadata": {
        "id": "OzuWpAn3J6Uu",
        "colab_type": "code",
        "colab": {}
      },
      "source": [
        "project_dir = 'My Drive/projects/ING/Experiment_week/garbage_segmentation/'\n",
        "data_dir = os.path.join(project_dir, 'data', 'raw')\n",
        "if os.path.exists(project_dir + '/models_shared'):\n",
        "  models_dir = project_dir + \"/models_shared\"\n",
        "else:\n",
        "  models_dir = project_dir + \"/models\"\n",
        "os.listdir(project_dir + \"/data/raw/train/paper\")[:5]"
      ],
      "execution_count": 0,
      "outputs": []
    },
    {
      "cell_type": "code",
      "metadata": {
        "id": "Lr9JDUV5KDao",
        "colab_type": "code",
        "colab": {}
      },
      "source": [
        "classes = os.listdir(project_dir + \"/data/raw/train\")\n",
        "\n",
        "def to_categorical(labels, label_to_index):\n",
        "    labels_int = pd.Series(labels).map(label_to_index)\n",
        "    return tf.keras.utils.to_categorical(labels_int, num_classes=len(label_to_index))\n",
        "\n",
        "label_to_index = dict(zip(classes, range(len(classes))))\n",
        "index_to_label = {v: k for k, v in label_to_index.items()}\n",
        "classes, label_to_index"
      ],
      "execution_count": 0,
      "outputs": []
    },
    {
      "cell_type": "code",
      "metadata": {
        "id": "Pmq91RRELqJ3",
        "colab_type": "code",
        "colab": {}
      },
      "source": [
        "test_names = sorted(glob.glob(data_dir + '/test/*/*'))\n",
        "print(len(test_names))\n",
        "print(\"\\n\".join(test_names[:2]))\n",
        "np.random.seed(1)\n",
        "test_sample = list(np.random.choice(test_names, 10))\n",
        "print(\"\\n\".join(test_sample))"
      ],
      "execution_count": 0,
      "outputs": []
    },
    {
      "cell_type": "code",
      "metadata": {
        "id": "u9pj8u80LyaI",
        "colab_type": "code",
        "colab": {}
      },
      "source": [
        "target_size = (224, 224)\n",
        "img = tf.keras.preprocessing.image.load_img([x for x in test_names if 'glass_14_20_41.jpg' in x][0] , target_size=target_size)\n",
        "img = tf.keras.preprocessing.image.img_to_array(img)\n",
        "plt.imshow(tf.keras.preprocessing.image.array_to_img(img), origin='lower')"
      ],
      "execution_count": 0,
      "outputs": []
    },
    {
      "cell_type": "code",
      "metadata": {
        "id": "kdmdITWZMhka",
        "colab_type": "code",
        "colab": {}
      },
      "source": [
        "base_preprocess = tf.keras.applications.resnet50.preprocess_input\n",
        "input_shape = (224, 224, 3)\n",
        "base_model = tf.keras.applications.resnet50.ResNet50(include_top=False, input_shape=input_shape)"
      ],
      "execution_count": 0,
      "outputs": []
    },
    {
      "cell_type": "code",
      "metadata": {
        "id": "n9PMGCwfKFbD",
        "colab_type": "code",
        "colab": {}
      },
      "source": [
        "model = tf.keras.models.load_model(models_dir + \"/model0.h5\")"
      ],
      "execution_count": 0,
      "outputs": []
    },
    {
      "cell_type": "code",
      "metadata": {
        "id": "fRadGd_TKJ42",
        "colab_type": "code",
        "colab": {}
      },
      "source": [
        "def predict_fn(img):\n",
        "  if isinstance(img, list):\n",
        "    X = np.stack(img)\n",
        "  else:\n",
        "    X = img\n",
        "  X_pre = base_preprocess(X)\n",
        "  X_em = base_model.predict(X_pre)\n",
        "  res = model.predict(X_em)\n",
        "  return res\n",
        "\n",
        "res = predict_fn([img])\n",
        "print(res)\n",
        "print(index_to_label[np.argmax(res[0])])"
      ],
      "execution_count": 0,
      "outputs": []
    },
    {
      "cell_type": "code",
      "metadata": {
        "id": "yiX4wzYNLIFS",
        "colab_type": "code",
        "colab": {}
      },
      "source": [
        "%%time\n",
        "# Hide color is the color for a superpixel turned OFF. Alternatively, if it is NONE, the superpixel will be replaced by the average of its pixels\n",
        "explainer = lime_image.LimeImageExplainer()\n",
        "explanation = explainer.explain_instance(img, predict_fn, top_labels=5, hide_color=0, num_samples=1000)"
      ],
      "execution_count": 0,
      "outputs": []
    },
    {
      "cell_type": "code",
      "metadata": {
        "id": "DxFIwagWLNMN",
        "colab_type": "code",
        "colab": {}
      },
      "source": [
        "from skimage.segmentation import mark_boundaries"
      ],
      "execution_count": 0,
      "outputs": []
    },
    {
      "cell_type": "code",
      "metadata": {
        "id": "P923NRBoOh4c",
        "colab_type": "code",
        "colab": {}
      },
      "source": [
        "temp, mask = explanation.get_image_and_mask(explanation.top_labels[0], positive_only=True, num_features=5, hide_rest=True)\n",
        "plt.imshow(tf.keras.preprocessing.image.array_to_img(mark_boundaries(temp / 2 + 0.5, mask)), origin='lower')"
      ],
      "execution_count": 0,
      "outputs": []
    },
    {
      "cell_type": "code",
      "metadata": {
        "id": "KbWcdTehOmRQ",
        "colab_type": "code",
        "colab": {}
      },
      "source": [
        "temp, mask = explanation.get_image_and_mask(explanation.top_labels[0], positive_only=True, num_features=5, hide_rest=False)\n",
        "plt.imshow(tf.keras.preprocessing.image.array_to_img(mark_boundaries(temp / 2 + 0.5, mask)), origin='lower')"
      ],
      "execution_count": 0,
      "outputs": []
    },
    {
      "cell_type": "code",
      "metadata": {
        "id": "jIgulQKtO51a",
        "colab_type": "code",
        "colab": {}
      },
      "source": [
        "temp, mask = explanation.get_image_and_mask(explanation.top_labels[0], positive_only=False, num_features=10, hide_rest=False)\n",
        "plt.imshow(tf.keras.preprocessing.image.array_to_img(mark_boundaries(temp / 2 + 0.5, mask)), origin='lower')"
      ],
      "execution_count": 0,
      "outputs": []
    },
    {
      "cell_type": "code",
      "metadata": {
        "id": "rzslOEGhVGjW",
        "colab_type": "code",
        "colab": {}
      },
      "source": [
        ""
      ],
      "execution_count": 0,
      "outputs": []
    }
  ]
}